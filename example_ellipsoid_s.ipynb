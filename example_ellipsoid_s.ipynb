{
 "cells": [
  {
   "cell_type": "markdown",
   "metadata": {},
   "source": [
    "## Gal3D Example: Ellipsoid_S\n",
    "This example demonstrates how to use Gal3D for three-dimensional modeling of particle distributions in simulated galaxies."
   ]
  },
  {
   "cell_type": "markdown",
   "metadata": {},
   "source": [
    "First, Gal3D requires the coordinates (`pos`) and masses (`mass`) of the particles. Here, we use AnastrisTNG to extract stellar particle data from a galaxy in the TNG50 simulation."
   ]
  },
  {
   "cell_type": "code",
   "execution_count": 1,
   "metadata": {},
   "outputs": [],
   "source": [
    "import numpy as np\n",
    "from AnastrisTNG import TNGsimulation"
   ]
  },
  {
   "cell_type": "code",
   "execution_count": 2,
   "metadata": {},
   "outputs": [],
   "source": [
    "path = '/home/yxi/Simulation/sims/TNG50-1/output'\n",
    "snap =99\n",
    "snapshot = TNGsimulation.Snapshot(path,snap)"
   ]
  },
  {
   "cell_type": "code",
   "execution_count": 3,
   "metadata": {},
   "outputs": [],
   "source": [
    "ID = 516760 \n",
    "sub = snapshot.load_particle(ID,order='star')\n",
    "sub.physical_units()\n",
    "coor_trans = sub.face_on(alignwith='star',rmax=8)\n",
    "\n",
    "pos = sub.s['pos']\n",
    "mass = sub.s['mass']"
   ]
  },
  {
   "cell_type": "markdown",
   "metadata": {},
   "source": [
    "Now, let's begin the analysis with Gal3D."
   ]
  },
  {
   "cell_type": "code",
   "execution_count": 4,
   "metadata": {},
   "outputs": [],
   "source": [
    "from gal3d.analyzer import Gal3DAnalyzer\n",
    "from gal3d.visualization import ModelProjector, show_image_model_residual\n",
    "from gal3d.characterization import Characterizer"
   ]
  },
  {
   "cell_type": "markdown",
   "metadata": {},
   "source": [
    "Next, pass `pos` and `mass` to Gal3D for analysis.\n",
    "\n",
    "> The parameter `res_r` sets the spatial resolution. If not specified, the program will automatically adjust it based on the particle distribution."
   ]
  },
  {
   "cell_type": "code",
   "execution_count": 5,
   "metadata": {},
   "outputs": [
    {
     "name": "stderr",
     "output_type": "stream",
     "text": [
      "\u001b[3m[2025-07-29 18:47:16.180] \u001b[0m< \u001b[94m\u001b[4mgal3d.analyzer\u001b[0m >\u001b[32m\u001b[1m | INFO | \u001b[0mStarting analysis...\n",
      "\u001b[3m[2025-07-29 18:47:16.188] \u001b[0m< \u001b[94m\u001b[4mgal3d.particle.global_calculator\u001b[0m >\u001b[32m\u001b[1m | INFO | \u001b[0mUsing a begin_r= 333.00\n",
      "\u001b[3m[2025-07-29 18:47:16.365] \u001b[0m< \u001b[94m\u001b[4mgal3d.particle.global_calculator\u001b[0m >\u001b[32m\u001b[1m | INFO | \u001b[0mIteration num= 27\n",
      "\u001b[3m[2025-07-29 18:47:16.366] \u001b[0m< \u001b[94m\u001b[4mgal3d.particle.global_calculator\u001b[0m >\u001b[32m\u001b[1m | INFO | \u001b[0mAfter iteration, final_r= 0.03\n",
      "\u001b[3m[2025-07-29 18:47:16.380] \u001b[0m< \u001b[94m\u001b[4mgal3d.particle.global_calculator\u001b[0m >\u001b[32m\u001b[1m | INFO | \u001b[0mRecentered positions by subtracting center: [-0.0008159  -0.00088915  0.00077898]\n",
      "\u001b[3m[2025-07-29 18:47:16.385] \u001b[0m< \u001b[94m\u001b[4mgal3d.particle.density_estimator\u001b[0m >\u001b[32m\u001b[1m | INFO | \u001b[0mFind DensityEstimatorPlugin: DensityEstimatorKNN and load successfully\n",
      "\u001b[3m[2025-07-29 18:47:16.386] \u001b[0m< \u001b[94m\u001b[4mgal3d.particle.density_estimator\u001b[0m >\u001b[32m\u001b[1m | INFO | \u001b[0mSuccessfully loaded density estimator plugins\n",
      "\u001b[3m[2025-07-29 18:47:16.387] \u001b[0m< \u001b[94m\u001b[4mgal3d.particle.density_estimator.DensityEstimatorKNN\u001b[0m >\u001b[32m\u001b[1m | INFO | \u001b[0mcpu nums: 16\n",
      "\u001b[3m[2025-07-29 18:47:16.388] \u001b[0m< \u001b[94m\u001b[4mgal3d.particle.density_estimator.DensityEstimatorKNN\u001b[0m >\u001b[32m\u001b[1m | INFO | \u001b[0mBuild KDTree with options: {'leafsize': 16}\n",
      "\u001b[3m[2025-07-29 18:47:17.136] \u001b[0m< \u001b[94m\u001b[4mgal3d.analyzer\u001b[0m >\u001b[32m\u001b[1m | INFO | \u001b[0mEstimated mass resolution: 57495.802698, spatial resolution: 0.288000\n",
      "\u001b[3m[2025-07-29 18:47:17.137] \u001b[0m< \u001b[94m\u001b[4mgal3d.analyzer\u001b[0m >\u001b[32m\u001b[1m | INFO | \u001b[0mSet inner radius to 0.144000\n",
      "\u001b[3m[2025-07-29 18:47:17.138] \u001b[0m< \u001b[94m\u001b[4mgal3d.analyzer\u001b[0m >\u001b[32m\u001b[1m | INFO | \u001b[0mSet outer value to 21281.699411\n",
      "\u001b[3m[2025-07-29 18:47:17.139] \u001b[0m< \u001b[94m\u001b[4mgal3d.analyzer\u001b[0m >\u001b[32m\u001b[1m | INFO | \u001b[0mBuilding spherical field...\n",
      "\u001b[3m[2025-07-29 18:47:17.160] \u001b[0m< \u001b[94m\u001b[4mgal3d.preprocessing.spherical_field.spherical_vector\u001b[0m >\u001b[32m\u001b[1m | INFO | \u001b[0m1024 points on the sphere by fibonacci method have the uniformity of 99.688%\n",
      "\u001b[3m[2025-07-29 18:47:17.161] \u001b[0m< \u001b[94m\u001b[4mgal3d.preprocessing.spherical_field.field\u001b[0m >\u001b[32m\u001b[1m | INFO | \u001b[0m build ray vector: 0.02160 sec\n",
      "\u001b[3m[2025-07-29 18:47:17.161] \u001b[0m< \u001b[94m\u001b[4mgal3d.preprocessing.spherical_field.field\u001b[0m >\u001b[32m\u001b[1m | INFO | \u001b[0mField inner boundaries range from 0.14 to 0.14\n",
      "\u001b[3m[2025-07-29 18:47:20.425] \u001b[0m< \u001b[94m\u001b[4mgal3d.preprocessing.spherical_field.field\u001b[0m >\u001b[32m\u001b[1m | INFO | \u001b[0mField outer boundaries range from 12.87 to 28.35\n",
      "\u001b[3m[2025-07-29 18:47:20.426] \u001b[0m< \u001b[94m\u001b[4mgal3d.preprocessing.spherical_field.field\u001b[0m >\u001b[32m\u001b[1m | INFO | \u001b[0mBuild field boundary: 3.26518 sec\n",
      "\u001b[3m[2025-07-29 18:47:21.054] \u001b[0m< \u001b[94m\u001b[4mgal3d.preprocessing.spherical_field.field\u001b[0m >\u001b[32m\u001b[1m | INFO | \u001b[0mBuild profile sample: 0.62690 sec\n",
      "\u001b[3m[2025-07-29 18:47:21.743] \u001b[0m< \u001b[94m\u001b[4mgal3d.preprocessing.spherical_field.field\u001b[0m >\u001b[32m\u001b[1m | INFO | \u001b[0mBuild profile interpolator: 0.68749 sec\n",
      "\u001b[3m[2025-07-29 18:47:22.378] \u001b[0m< \u001b[94m\u001b[4mgal3d.preprocessing.spherical_field.field\u001b[0m >\u001b[32m\u001b[1m | INFO | \u001b[0mSet isodensity sphere: 0.63389 sec\n",
      "\u001b[3m[2025-07-29 18:47:22.501] \u001b[0m< \u001b[94m\u001b[4mgal3d.preprocessing.spherical_field.field\u001b[0m >\u001b[32m\u001b[1m | INFO | \u001b[0mBuild isodensity profile: 0.75671 sec\n",
      "\u001b[3m[2025-07-29 18:47:22.503] \u001b[0m< \u001b[94m\u001b[4mgal3d.shape.geometry\u001b[0m >\u001b[32m\u001b[1m | INFO | \u001b[0mGeometryPlugin found: Ellipsoid and loaded successfully\n",
      "\u001b[3m[2025-07-29 18:47:22.505] \u001b[0m< \u001b[94m\u001b[4mgal3d.shape.geometry\u001b[0m >\u001b[32m\u001b[1m | INFO | \u001b[0mGeometryPlugin found: Ellipsoid_S and loaded successfully\n",
      "\u001b[3m[2025-07-29 18:47:22.505] \u001b[0m< \u001b[94m\u001b[4mgal3d.shape.geometry\u001b[0m >\u001b[32m\u001b[1m | INFO | \u001b[0mSuccessfully loaded geometry plugins\n",
      "\u001b[3m[2025-07-29 18:47:22.507] \u001b[0m< \u001b[94m\u001b[4mgal3d.shape.coordinate\u001b[0m >\u001b[32m\u001b[1m | INFO | \u001b[0mCoordinatePlugin found: EulerShift and loaded successfully\n",
      "\u001b[3m[2025-07-29 18:47:22.508] \u001b[0m< \u001b[94m\u001b[4mgal3d.shape.coordinate\u001b[0m >\u001b[32m\u001b[1m | INFO | \u001b[0mSuccessfully loaded coordinate plugins\n",
      "\u001b[3m[2025-07-29 18:47:22.511] \u001b[0m< \u001b[94m\u001b[4mgal3d.optimization.optimizer\u001b[0m >\u001b[32m\u001b[1m | INFO | \u001b[0mOptimizerPlugin found: OptimizerScipy and loaded successfully\n",
      "\u001b[3m[2025-07-29 18:47:22.515] \u001b[0m< \u001b[94m\u001b[4mgal3d.optimization.optimizer\u001b[0m >\u001b[32m\u001b[1m | INFO | \u001b[0mOptimizerPlugin found: OptimizerNLopt and loaded successfully\n",
      "\u001b[3m[2025-07-29 18:47:23.734] \u001b[0m< \u001b[94m\u001b[4mgal3d.optimization.optimizer\u001b[0m >\u001b[32m\u001b[1m | INFO | \u001b[0mOptimizerPlugin found: OptimizerOptimagic and loaded successfully\n",
      "\u001b[3m[2025-07-29 18:47:23.741] \u001b[0m< \u001b[94m\u001b[4mgal3d.optimization.optimizer\u001b[0m >\u001b[32m\u001b[1m | INFO | \u001b[0mOptimizerPlugin found: OptimizerEmcee and loaded successfully\n",
      "\u001b[3m[2025-07-29 18:47:23.742] \u001b[0m< \u001b[94m\u001b[4mgal3d.optimization.optimizer\u001b[0m >\u001b[32m\u001b[1m | INFO | \u001b[0mSuccessfully loaded optimizer plugins\n"
     ]
    }
   ],
   "source": [
    "gal = Gal3DAnalyzer.analyze(pos,mass,res_r=0.288)"
   ]
  },
  {
   "cell_type": "markdown",
   "metadata": {},
   "source": [
    "Then, fit the three-dimensional morphology. Here, we set 300 steps; the fitting process takes about half a minute."
   ]
  },
  {
   "cell_type": "code",
   "execution_count": 6,
   "metadata": {},
   "outputs": [
    {
     "name": "stderr",
     "output_type": "stream",
     "text": [
      "\u001b[3m[2025-07-29 18:47:32.221] \u001b[0m< \u001b[94m\u001b[4mgal3d.analyzer\u001b[0m >\u001b[32m\u001b[1m | INFO | \u001b[0mUse get_ell_structure workflow\n",
      "Fitting radii: 100%|██████████| 300/300 [00:26<00:00, 11.35it/s]\n"
     ]
    }
   ],
   "source": [
    "res_ellipsoid_s = gal.fit(num_step=300)"
   ]
  },
  {
   "cell_type": "markdown",
   "metadata": {},
   "source": [
    "You can further analyze the results using Gal3D's built-in tools. This section demonstrates how to measure the bar structure of the galaxy."
   ]
  },
  {
   "cell_type": "code",
   "execution_count": 7,
   "metadata": {},
   "outputs": [
    {
     "name": "stderr",
     "output_type": "stream",
     "text": [
      "\u001b[3m[2025-07-29 18:48:22.185] \u001b[0m< \u001b[94m\u001b[4mgal3d.characterization.characterizer\u001b[0m >\u001b[32m\u001b[1m | INFO | \u001b[0mCharacterizerPlugin found: Bar and loaded successfully\n",
      "\u001b[3m[2025-07-29 18:48:22.186] \u001b[0m< \u001b[94m\u001b[4mgal3d.characterization.characterizer\u001b[0m >\u001b[32m\u001b[1m | INFO | \u001b[0mSuccessfully loaded Characterizer plugins\n"
     ]
    },
    {
     "data": {
      "text/plain": [
       "{'flag': 1,\n",
       " 'eps_max': np.float64(0.27202509133162683),\n",
       " 'R_max': np.float64(1.258510412566927),\n",
       " 'R_bar': np.float64(1.4783345469547913)}"
      ]
     },
     "execution_count": 7,
     "metadata": {},
     "output_type": "execute_result"
    }
   ],
   "source": [
    "bar = Characterizer.get_plugin('Bar')\n",
    "data = {i: res_ellipsoid_s[i] for i in ['a','eps_ab','eps_bc','ang1','ang2','ang3']}\n",
    "data['pa'] = data['ang1']\n",
    "bar(data).measure()"
   ]
  },
  {
   "cell_type": "markdown",
   "metadata": {},
   "source": [
    "Finally, visualize the fitted model alongside the real data."
   ]
  },
  {
   "cell_type": "code",
   "execution_count": null,
   "metadata": {},
   "outputs": [
    {
     "name": "stderr",
     "output_type": "stream",
     "text": [
      "\u001b[3m[2025-07-29 18:48:28.293] \u001b[0m< \u001b[94m\u001b[4mgal3d.visualization.model_projector\u001b[0m >\u001b[32m\u001b[1m | INFO | \u001b[0mModelProjectorPlugin found: ProjectorLineIntegration and loaded successfully\n",
      "\u001b[3m[2025-07-29 18:48:28.294] \u001b[0m< \u001b[94m\u001b[4mgal3d.visualization.model_projector\u001b[0m >\u001b[32m\u001b[1m | INFO | \u001b[0mModelProjectorPlugin found: ProjectorSphGrid and loaded successfully\n",
      "\u001b[3m[2025-07-29 18:48:28.294] \u001b[0m< \u001b[94m\u001b[4mgal3d.visualization.model_projector\u001b[0m >\u001b[32m\u001b[1m | INFO | \u001b[0mSuccessfully loaded model projector plugins\n"
     ]
    }
   ],
   "source": [
    "ellipsoid_s_model = ModelProjector.get_plugin('ProjectorLineIntegration')(res_ellipsoid_s)"
   ]
  },
  {
   "cell_type": "code",
   "execution_count": null,
   "metadata": {},
   "outputs": [],
   "source": [
    "box_lh_max =np.max(res_ellipsoid_s['a'])*1.1\n",
    "zoom_lh_max = box_lh_max/4\n",
    "show_image_model_residual(gal.particle,ellipsoid_s_model,\n",
    "                          large_box_x_range = (-box_lh_max,box_lh_max),\n",
    "                          large_box_y_range= (-box_lh_max,box_lh_max),\n",
    "                          zoom_x_range=(-zoom_lh_max,zoom_lh_max),\n",
    "                          zoom_y_range=(-zoom_lh_max,zoom_lh_max),\n",
    "                          depth_z_range=(-box_lh_max,box_lh_max),\n",
    "                          nbins_large = 500,\n",
    "                          nbins_zoom = 150,\n",
    "                          nlevels_large=0,\n",
    "                          nlevels_zoom=22)"
   ]
  }
 ],
 "metadata": {
  "kernelspec": {
   "display_name": "anasim",
   "language": "python",
   "name": "python3"
  },
  "language_info": {
   "codemirror_mode": {
    "name": "ipython",
    "version": 3
   },
   "file_extension": ".py",
   "mimetype": "text/x-python",
   "name": "python",
   "nbconvert_exporter": "python",
   "pygments_lexer": "ipython3",
   "version": "3.11.9"
  }
 },
 "nbformat": 4,
 "nbformat_minor": 2
}
